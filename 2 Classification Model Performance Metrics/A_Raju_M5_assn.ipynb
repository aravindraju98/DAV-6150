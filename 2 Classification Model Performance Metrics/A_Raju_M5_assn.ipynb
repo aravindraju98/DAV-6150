{
 "cells": [
  {
   "cell_type": "markdown",
   "id": "f903da62",
   "metadata": {},
   "source": [
    "# Understanding Classification Model Performance Metrics"
   ]
  },
  {
   "cell_type": "markdown",
   "id": "fcb28320",
   "metadata": {},
   "source": [
    "__Team Members:__ Surya Suresh Sriraman, Nivetha Sivakumar, Aravind Raju"
   ]
  },
  {
   "cell_type": "markdown",
   "id": "bc437aa6",
   "metadata": {},
   "source": [
    "# Introduction"
   ]
  },
  {
   "cell_type": "markdown",
   "id": "0bf8d816",
   "metadata": {},
   "source": [
    "In this work we will develop and demonstrate our understanding of the classification model performance metrics. We will be using a dataset that has actual and predicted class binary columns.\n",
    "\n",
    "__Approach:__<br>\n",
    "- __Data Loading:__ Utilize Python and the Pandas library to load the data into a suitable DataFrame.\n",
    "- __Create Crosstab:__ Use pandas functions to create crosstab.\n",
    "- __Create Custom Functions:__ Create custom functions using python to calculate different performance metrics.\n",
    "- __Compare with built-in Functions:__ Comapre the output of custom functions and pre-built functions. "
   ]
  },
  {
   "cell_type": "markdown",
   "id": "7d1194a2",
   "metadata": {},
   "source": [
    "# Import libraries"
   ]
  },
  {
   "cell_type": "code",
   "execution_count": 21,
   "id": "199a331d",
   "metadata": {},
   "outputs": [],
   "source": [
    "import pandas as pd\n",
    "import matplotlib.pyplot as plt\n",
    "from sklearn.metrics import confusion_matrix, accuracy_score, precision_score, recall_score, f1_score,roc_auc_score, roc_curve, auc, classification_report, confusion_matrix"
   ]
  },
  {
   "cell_type": "markdown",
   "id": "712a9429",
   "metadata": {},
   "source": [
    "# Data Loading [1,2]"
   ]
  },
  {
   "cell_type": "code",
   "execution_count": 22,
   "id": "7576d6c1",
   "metadata": {},
   "outputs": [
    {
     "data": {
      "text/html": [
       "<div>\n",
       "<style scoped>\n",
       "    .dataframe tbody tr th:only-of-type {\n",
       "        vertical-align: middle;\n",
       "    }\n",
       "\n",
       "    .dataframe tbody tr th {\n",
       "        vertical-align: top;\n",
       "    }\n",
       "\n",
       "    .dataframe thead th {\n",
       "        text-align: right;\n",
       "    }\n",
       "</style>\n",
       "<table border=\"1\" class=\"dataframe\">\n",
       "  <thead>\n",
       "    <tr style=\"text-align: right;\">\n",
       "      <th></th>\n",
       "      <th>pregnant</th>\n",
       "      <th>glucose</th>\n",
       "      <th>diastolic</th>\n",
       "      <th>skinfold</th>\n",
       "      <th>insulin</th>\n",
       "      <th>bmi</th>\n",
       "      <th>pedigree</th>\n",
       "      <th>age</th>\n",
       "      <th>class</th>\n",
       "      <th>scored.class</th>\n",
       "      <th>scored.probability</th>\n",
       "    </tr>\n",
       "  </thead>\n",
       "  <tbody>\n",
       "    <tr>\n",
       "      <th>0</th>\n",
       "      <td>7</td>\n",
       "      <td>124</td>\n",
       "      <td>70</td>\n",
       "      <td>33</td>\n",
       "      <td>215</td>\n",
       "      <td>25.5</td>\n",
       "      <td>0.161</td>\n",
       "      <td>37</td>\n",
       "      <td>0</td>\n",
       "      <td>0</td>\n",
       "      <td>0.328452</td>\n",
       "    </tr>\n",
       "    <tr>\n",
       "      <th>1</th>\n",
       "      <td>2</td>\n",
       "      <td>122</td>\n",
       "      <td>76</td>\n",
       "      <td>27</td>\n",
       "      <td>200</td>\n",
       "      <td>35.9</td>\n",
       "      <td>0.483</td>\n",
       "      <td>26</td>\n",
       "      <td>0</td>\n",
       "      <td>0</td>\n",
       "      <td>0.273190</td>\n",
       "    </tr>\n",
       "    <tr>\n",
       "      <th>2</th>\n",
       "      <td>3</td>\n",
       "      <td>107</td>\n",
       "      <td>62</td>\n",
       "      <td>13</td>\n",
       "      <td>48</td>\n",
       "      <td>22.9</td>\n",
       "      <td>0.678</td>\n",
       "      <td>23</td>\n",
       "      <td>1</td>\n",
       "      <td>0</td>\n",
       "      <td>0.109660</td>\n",
       "    </tr>\n",
       "    <tr>\n",
       "      <th>3</th>\n",
       "      <td>1</td>\n",
       "      <td>91</td>\n",
       "      <td>64</td>\n",
       "      <td>24</td>\n",
       "      <td>0</td>\n",
       "      <td>29.2</td>\n",
       "      <td>0.192</td>\n",
       "      <td>21</td>\n",
       "      <td>0</td>\n",
       "      <td>0</td>\n",
       "      <td>0.055998</td>\n",
       "    </tr>\n",
       "    <tr>\n",
       "      <th>4</th>\n",
       "      <td>4</td>\n",
       "      <td>83</td>\n",
       "      <td>86</td>\n",
       "      <td>19</td>\n",
       "      <td>0</td>\n",
       "      <td>29.3</td>\n",
       "      <td>0.317</td>\n",
       "      <td>34</td>\n",
       "      <td>0</td>\n",
       "      <td>0</td>\n",
       "      <td>0.100491</td>\n",
       "    </tr>\n",
       "  </tbody>\n",
       "</table>\n",
       "</div>"
      ],
      "text/plain": [
       "   pregnant  glucose  diastolic  skinfold  insulin   bmi  pedigree  age  \\\n",
       "0         7      124         70        33      215  25.5     0.161   37   \n",
       "1         2      122         76        27      200  35.9     0.483   26   \n",
       "2         3      107         62        13       48  22.9     0.678   23   \n",
       "3         1       91         64        24        0  29.2     0.192   21   \n",
       "4         4       83         86        19        0  29.3     0.317   34   \n",
       "\n",
       "   class  scored.class  scored.probability  \n",
       "0      0             0            0.328452  \n",
       "1      0             0            0.273190  \n",
       "2      1             0            0.109660  \n",
       "3      0             0            0.055998  \n",
       "4      0             0            0.100491  "
      ]
     },
     "execution_count": 22,
     "metadata": {},
     "output_type": "execute_result"
    }
   ],
   "source": [
    "data = pd.read_csv(\"https://raw.githubusercontent.com/nivethasivakumar75/DAV-6150-2/main/M5_Data.csv\")\n",
    "data.head()"
   ]
  },
  {
   "cell_type": "markdown",
   "id": "7d74f8bf",
   "metadata": {},
   "source": [
    "# Create Crosstab [3]"
   ]
  },
  {
   "cell_type": "code",
   "execution_count": 23,
   "id": "73d3dfb8",
   "metadata": {},
   "outputs": [
    {
     "data": {
      "text/html": [
       "<div>\n",
       "<style scoped>\n",
       "    .dataframe tbody tr th:only-of-type {\n",
       "        vertical-align: middle;\n",
       "    }\n",
       "\n",
       "    .dataframe tbody tr th {\n",
       "        vertical-align: top;\n",
       "    }\n",
       "\n",
       "    .dataframe thead th {\n",
       "        text-align: right;\n",
       "    }\n",
       "</style>\n",
       "<table border=\"1\" class=\"dataframe\">\n",
       "  <thead>\n",
       "    <tr style=\"text-align: right;\">\n",
       "      <th>Predicted</th>\n",
       "      <th>0</th>\n",
       "      <th>1</th>\n",
       "    </tr>\n",
       "    <tr>\n",
       "      <th>Actual</th>\n",
       "      <th></th>\n",
       "      <th></th>\n",
       "    </tr>\n",
       "  </thead>\n",
       "  <tbody>\n",
       "    <tr>\n",
       "      <th>0</th>\n",
       "      <td>119</td>\n",
       "      <td>5</td>\n",
       "    </tr>\n",
       "    <tr>\n",
       "      <th>1</th>\n",
       "      <td>30</td>\n",
       "      <td>27</td>\n",
       "    </tr>\n",
       "  </tbody>\n",
       "</table>\n",
       "</div>"
      ],
      "text/plain": [
       "Predicted    0   1\n",
       "Actual            \n",
       "0          119   5\n",
       "1           30  27"
      ]
     },
     "execution_count": 23,
     "metadata": {},
     "output_type": "execute_result"
    }
   ],
   "source": [
    "#create crosstab between actual and predicted\n",
    "ct = pd.crosstab(data[\"class\"], data[\"scored.class\"], rownames = [\"Actual\"], colnames = [\"Predicted\"])\n",
    "ct"
   ]
  },
  {
   "cell_type": "code",
   "execution_count": 24,
   "id": "a1644e1f",
   "metadata": {},
   "outputs": [
    {
     "data": {
      "text/plain": [
       "0    124\n",
       "1     57\n",
       "Name: class, dtype: int64"
      ]
     },
     "execution_count": 24,
     "metadata": {},
     "output_type": "execute_result"
    }
   ],
   "source": [
    "#check using value_counts function\n",
    "data[\"class\"].value_counts()"
   ]
  },
  {
   "cell_type": "markdown",
   "id": "934a4e42",
   "metadata": {},
   "source": [
    "Actual values are matching with sum across the rows  of the crosstab"
   ]
  },
  {
   "cell_type": "code",
   "execution_count": 25,
   "id": "47c396ed",
   "metadata": {},
   "outputs": [
    {
     "data": {
      "text/plain": [
       "0    149\n",
       "1     32\n",
       "Name: scored.class, dtype: int64"
      ]
     },
     "execution_count": 25,
     "metadata": {},
     "output_type": "execute_result"
    }
   ],
   "source": [
    "#check using value count function\n",
    "data[\"scored.class\"].value_counts()"
   ]
  },
  {
   "cell_type": "markdown",
   "id": "a1143626",
   "metadata": {},
   "source": [
    "Predicted values are matching with sum across the columns  of the crosstab"
   ]
  },
  {
   "cell_type": "markdown",
   "id": "c661a71a",
   "metadata": {},
   "source": [
    "# Save the crosstab results in a data sturcture (dictionary) [4]"
   ]
  },
  {
   "cell_type": "code",
   "execution_count": 26,
   "id": "7ead64b7",
   "metadata": {},
   "outputs": [
    {
     "data": {
      "text/plain": [
       "{'True Positive': 27,\n",
       " 'True Negative': 119,\n",
       " 'False Positive': 5,\n",
       " 'False Negative': 30}"
      ]
     },
     "execution_count": 26,
     "metadata": {},
     "output_type": "execute_result"
    }
   ],
   "source": [
    "ct_dict = {\"True Positive\"  : ct.iloc[1,1],\n",
    "           \"True Negative\"  : ct.iloc[0,0],\n",
    "           \"False Positive\" : ct.iloc[0,1],\n",
    "           \"False Negative\" : ct.iloc[1,0]}\n",
    "\n",
    "ct_dict"
   ]
  },
  {
   "cell_type": "markdown",
   "id": "ffb97062",
   "metadata": {},
   "source": [
    "# Create functions to calculate model performance metrics"
   ]
  },
  {
   "cell_type": "markdown",
   "id": "1e994f44",
   "metadata": {},
   "source": [
    "## Confusion Matrix"
   ]
  },
  {
   "cell_type": "code",
   "execution_count": 27,
   "id": "d026b5f0",
   "metadata": {},
   "outputs": [],
   "source": [
    "def get_confusion_matrix(actual, predicted):\n",
    "    \"\"\"\n",
    "    Compute Cross tab forgiven actual and predicted values.\n",
    "\n",
    "    Parameters:\n",
    "        actual : Actual labels.\n",
    "        predicted : Predicted labels.\n",
    "\n",
    "    Returns:\n",
    "        Dictionary: Values of confusion matrix.\n",
    "    \"\"\"\n",
    "    \n",
    "    ct = pd.crosstab(actual, predicted, rownames=[\"Actual\"], colnames=[\"Predicted\"])\n",
    "\n",
    "    return ct"
   ]
  },
  {
   "cell_type": "code",
   "execution_count": 28,
   "id": "da9b2db1",
   "metadata": {},
   "outputs": [],
   "source": [
    "def get_cm_values(confusion_matrix):\n",
    "    \n",
    "    ct_dict = {\n",
    "        \"True Positive\": ct.iloc[1, 1],\n",
    "        \"True Negative\": ct.iloc[0, 0],\n",
    "        \"False Positive\": ct.iloc[0, 1],\n",
    "        \"False Negative\": ct.iloc[1, 0]\n",
    "    }\n",
    "    \n",
    "    return ct_dict    "
   ]
  },
  {
   "cell_type": "markdown",
   "id": "1df622df",
   "metadata": {},
   "source": [
    "## Accuracy [5]"
   ]
  },
  {
   "cell_type": "code",
   "execution_count": 29,
   "id": "a89d7036",
   "metadata": {},
   "outputs": [],
   "source": [
    "def get_accuracy(actual, predicted):\n",
    "    \"\"\"\n",
    "    Calculate accuracy metric given actual and predicted values.\n",
    "\n",
    "    Parameters:\n",
    "        actual : Actual labels.\n",
    "        predicted : Predicted labels.\n",
    "\n",
    "    Returns:\n",
    "        float: Accuracy of the model.\n",
    "    \"\"\"\n",
    "    ct_dict = get_cm_values(get_confusion_matrix(actual, predicted))\n",
    "\n",
    "    # Calculate accuracy\n",
    "    accuracy = (ct_dict[\"True Positive\"] + ct_dict[\"True Negative\"]) / (ct_dict[\"True Positive\"] + ct_dict[\"True Negative\"] + ct_dict[\"False Positive\"] + ct_dict[\"False Negative\"])\n",
    "\n",
    "    return accuracy\n"
   ]
  },
  {
   "cell_type": "markdown",
   "id": "a1c26159",
   "metadata": {},
   "source": [
    "## Precision [6]"
   ]
  },
  {
   "cell_type": "code",
   "execution_count": 30,
   "id": "5ec2011f",
   "metadata": {},
   "outputs": [],
   "source": [
    "def get_precision(actual, predicted):\n",
    "    \"\"\"\n",
    "    Calculate precision metric given actual and predicted values.\n",
    "\n",
    "    Parameters:\n",
    "        actual: Actual labels.\n",
    "        predicted: Predicted labels.\n",
    "\n",
    "    Returns:\n",
    "        float: Precision of the model.\n",
    "    \"\"\"\n",
    "    ct_dict = get_cm_values(get_confusion_matrix(actual, predicted))\n",
    "\n",
    "    # Calculate precision\n",
    "    precision = ct_dict[\"True Positive\"] / (ct_dict[\"True Positive\"] + ct_dict[\"False Positive\"])\n",
    "\n",
    "    return precision\n"
   ]
  },
  {
   "cell_type": "markdown",
   "id": "ed287227",
   "metadata": {},
   "source": [
    "## Sensitivity [7]"
   ]
  },
  {
   "cell_type": "code",
   "execution_count": 31,
   "id": "4ee69157",
   "metadata": {},
   "outputs": [],
   "source": [
    "def get_sensitivity(actual, predicted):\n",
    "    \"\"\"\n",
    "    Calculate Sensitivity metric given actual and predicted values.\n",
    "\n",
    "    Parameters:\n",
    "        actual: Actual labels.\n",
    "        predicted: Predicted labels.\n",
    "\n",
    "    Returns:\n",
    "        float: Sensitivity of the model.\n",
    "    \"\"\"\n",
    "    ct_dict = get_cm_values(get_confusion_matrix(actual, predicted))\n",
    "    \n",
    "    # Calculate sensitivity\n",
    "    sensitivity = ct_dict[\"True Positive\"] / (ct_dict[\"True Positive\"] + ct_dict[\"False Negative\"])\n",
    "\n",
    "    return sensitivity\n"
   ]
  },
  {
   "cell_type": "markdown",
   "id": "239fda0a",
   "metadata": {},
   "source": [
    "## Specificity [8]"
   ]
  },
  {
   "cell_type": "code",
   "execution_count": 32,
   "id": "b1011898",
   "metadata": {},
   "outputs": [],
   "source": [
    "def get_specificity(actual, predicted):\n",
    "    \"\"\"\n",
    "    Calculate the specificity metric given actual and predicted values.\n",
    "\n",
    "    Specificity measures the proportion of actual negative cases that are correctly identified as negative by the classifier.\n",
    "\n",
    "    Parameters:\n",
    "        actual: The actual labels.\n",
    "        predicted: The predicted labels.\n",
    "\n",
    "    Returns:\n",
    "        float: The specificity of the model.\n",
    "    \"\"\"\n",
    "    ct_dict = get_cm_values(get_confusion_matrix(actual, predicted))\n",
    "\n",
    "    # Calculate the specificity using the formula: TN / (TN + FP)\n",
    "    specificity = ct_dict[\"True Negative\"] / (ct_dict[\"True Negative\"] + ct_dict[\"False Positive\"])\n",
    "    \n",
    "    return specificity\n"
   ]
  },
  {
   "cell_type": "markdown",
   "id": "9b7598ce",
   "metadata": {},
   "source": [
    "## f1-score metric [9]"
   ]
  },
  {
   "cell_type": "code",
   "execution_count": 33,
   "id": "d903e789",
   "metadata": {},
   "outputs": [],
   "source": [
    "def get_f1_score(actual, predicted):\n",
    "    \"\"\"\n",
    "    Calculate the F1 score metric given actual and predicted values.\n",
    "\n",
    "    Parameters:\n",
    "        actual: The actual labels.\n",
    "        predicted: The predicted labels.\n",
    "\n",
    "    Returns:\n",
    "        float: The F1 score of the model.\n",
    "    \"\"\"\n",
    "    \n",
    "    # Calculate precision and recall using custom functions\n",
    "    precision = get_precision(actual, predicted)\n",
    "    recall = get_sensitivity(actual, predicted)\n",
    "    \n",
    "    # Calculate the F1 score using the formula: 2 / ((1 / precision) + (1 / recall))\n",
    "    f1_score = 2 / ((1 / precision) + (1 / recall))\n",
    "    \n",
    "    return f1_score\n"
   ]
  },
  {
   "cell_type": "markdown",
   "id": "61d2bd97",
   "metadata": {},
   "source": [
    "## ROC and AUC [10]"
   ]
  },
  {
   "cell_type": "code",
   "execution_count": 34,
   "id": "2b2faf80",
   "metadata": {},
   "outputs": [],
   "source": [
    "def get_roc_auc(actual, predicted):\n",
    "    \"\"\"\n",
    "    Calculate the Area Under the Curve (AUC) for Receiver Operating Characteristic (ROC) given actual and predicted values.\n",
    "\n",
    "    Parameters:\n",
    "        actual: The actual labels.\n",
    "        predicted: The predicted labels.\n",
    "\n",
    "    Returns:\n",
    "        float: The Area Under the Curve (AUC) of the ROC curve.\n",
    "    \"\"\"\n",
    "    ct_dict = get_cm_values(get_confusion_matrix(actual, predicted))\n",
    "\n",
    "    # Calculate True Positive Rate (TPR) and False Positive Rate (FPR)\n",
    "    tpr = ct_dict[\"True Positive\"] / (ct_dict[\"True Positive\"] + ct_dict[\"False Negative\"])\n",
    "    fpr = ct_dict[\"False Positive\"] / (ct_dict[\"False Positive\"] + ct_dict[\"True Negative\"])\n",
    "    \n",
    "    # Define points for plotting ROC curve\n",
    "    fpr_list = [0, fpr, 1]\n",
    "    tpr_list = [0, tpr, 1]\n",
    "\n",
    "    # Calculate AUC using trapezoidal rule\n",
    "    auc = round(sum([(fpr_list[i+1] - fpr_list[i]) * (tpr_list[i] + tpr_list[i+1]) / 2 for i in range(len(fpr_list)-1)]), 2)\n",
    "\n",
    "    # Plot ROC curve\n",
    "    plt.plot(fpr_list, tpr_list)\n",
    "    plt.xlabel('False Positive Rate')\n",
    "    plt.ylabel('True Positive Rate')\n",
    "    plt.title('ROC Curve with custom function')\n",
    "    plt.show()\n",
    "    print(\"AUC with custom function:\", auc)\n",
    "    \n",
    "    return auc\n"
   ]
  },
  {
   "cell_type": "markdown",
   "id": "c678f317",
   "metadata": {},
   "source": [
    "# Apply the custom made functions [11]"
   ]
  },
  {
   "cell_type": "code",
   "execution_count": 35,
   "id": "af885bf9",
   "metadata": {},
   "outputs": [
    {
     "name": "stdout",
     "output_type": "stream",
     "text": [
      "Accuracy: 0.8066\n",
      "Precision: 0.8438\n",
      "Sensitivity: 0.4737\n",
      "Specificity: 0.9597\n",
      "f1_score: 0.6067\n"
     ]
    }
   ],
   "source": [
    "# Calculate metrics using custom functions and round them to two decimal places\n",
    "print(f'Accuracy: {get_accuracy(data[\"class\"], data[\"scored.class\"]).round(4)}')\n",
    "print(f'Precision: {get_precision(data[\"class\"], data[\"scored.class\"]).round(4)}')\n",
    "print(f'Sensitivity: {get_sensitivity(data[\"class\"], data[\"scored.class\"]).round(4)}')\n",
    "print(f'Specificity: {get_specificity(data[\"class\"], data[\"scored.class\"]).round(4)}')\n",
    "print(f'f1_score: {get_f1_score(data[\"class\"], data[\"scored.class\"]).round(4)}')"
   ]
  },
  {
   "cell_type": "markdown",
   "id": "04201fcb",
   "metadata": {},
   "source": [
    "# Compare with pre-built functions [12]"
   ]
  },
  {
   "cell_type": "markdown",
   "id": "f235b719",
   "metadata": {},
   "source": [
    "## Confusion Matrix"
   ]
  },
  {
   "cell_type": "code",
   "execution_count": 36,
   "id": "eb36c90b",
   "metadata": {},
   "outputs": [
    {
     "name": "stdout",
     "output_type": "stream",
     "text": [
      "Pre-built function:\n"
     ]
    },
    {
     "data": {
      "text/plain": [
       "array([[119,   5],\n",
       "       [ 30,  27]], dtype=int64)"
      ]
     },
     "metadata": {},
     "output_type": "display_data"
    },
    {
     "name": "stdout",
     "output_type": "stream",
     "text": [
      "Custom Function:\n"
     ]
    },
    {
     "data": {
      "text/html": [
       "<div>\n",
       "<style scoped>\n",
       "    .dataframe tbody tr th:only-of-type {\n",
       "        vertical-align: middle;\n",
       "    }\n",
       "\n",
       "    .dataframe tbody tr th {\n",
       "        vertical-align: top;\n",
       "    }\n",
       "\n",
       "    .dataframe thead th {\n",
       "        text-align: right;\n",
       "    }\n",
       "</style>\n",
       "<table border=\"1\" class=\"dataframe\">\n",
       "  <thead>\n",
       "    <tr style=\"text-align: right;\">\n",
       "      <th>Predicted</th>\n",
       "      <th>0</th>\n",
       "      <th>1</th>\n",
       "    </tr>\n",
       "    <tr>\n",
       "      <th>Actual</th>\n",
       "      <th></th>\n",
       "      <th></th>\n",
       "    </tr>\n",
       "  </thead>\n",
       "  <tbody>\n",
       "    <tr>\n",
       "      <th>0</th>\n",
       "      <td>119</td>\n",
       "      <td>5</td>\n",
       "    </tr>\n",
       "    <tr>\n",
       "      <th>1</th>\n",
       "      <td>30</td>\n",
       "      <td>27</td>\n",
       "    </tr>\n",
       "  </tbody>\n",
       "</table>\n",
       "</div>"
      ],
      "text/plain": [
       "Predicted    0   1\n",
       "Actual            \n",
       "0          119   5\n",
       "1           30  27"
      ]
     },
     "metadata": {},
     "output_type": "display_data"
    }
   ],
   "source": [
    "print('Pre-built function:')\n",
    "display(confusion_matrix(data[\"class\"], data[\"scored.class\"]))\n",
    "\n",
    "print('Custom Function:')\n",
    "display(get_confusion_matrix(data[\"class\"], data[\"scored.class\"]))"
   ]
  },
  {
   "cell_type": "markdown",
   "id": "a4540667",
   "metadata": {},
   "source": [
    "The values are matching. The built-in function gives output in the form of array and the custom fuction gives output in the form of dataframe."
   ]
  },
  {
   "cell_type": "markdown",
   "id": "c40150f1",
   "metadata": {},
   "source": [
    "## accuracy_score(), precision_score(), recall_score(), f1_score()"
   ]
  },
  {
   "cell_type": "code",
   "execution_count": 37,
   "id": "45ddaf83",
   "metadata": {},
   "outputs": [
    {
     "data": {
      "text/html": [
       "<div>\n",
       "<style scoped>\n",
       "    .dataframe tbody tr th:only-of-type {\n",
       "        vertical-align: middle;\n",
       "    }\n",
       "\n",
       "    .dataframe tbody tr th {\n",
       "        vertical-align: top;\n",
       "    }\n",
       "\n",
       "    .dataframe thead th {\n",
       "        text-align: right;\n",
       "    }\n",
       "</style>\n",
       "<table border=\"1\" class=\"dataframe\">\n",
       "  <thead>\n",
       "    <tr style=\"text-align: right;\">\n",
       "      <th></th>\n",
       "      <th>accuracy</th>\n",
       "      <th>precision</th>\n",
       "      <th>sensitivity</th>\n",
       "      <th>f1_score</th>\n",
       "    </tr>\n",
       "  </thead>\n",
       "  <tbody>\n",
       "    <tr>\n",
       "      <th>custom function</th>\n",
       "      <td>0.81</td>\n",
       "      <td>0.84</td>\n",
       "      <td>0.47</td>\n",
       "      <td>0.61</td>\n",
       "    </tr>\n",
       "    <tr>\n",
       "      <th>pre built function</th>\n",
       "      <td>0.81</td>\n",
       "      <td>0.84</td>\n",
       "      <td>0.47</td>\n",
       "      <td>0.61</td>\n",
       "    </tr>\n",
       "  </tbody>\n",
       "</table>\n",
       "</div>"
      ],
      "text/plain": [
       "                    accuracy  precision  sensitivity  f1_score\n",
       "custom function         0.81       0.84         0.47      0.61\n",
       "pre built function      0.81       0.84         0.47      0.61"
      ]
     },
     "execution_count": 37,
     "metadata": {},
     "output_type": "execute_result"
    }
   ],
   "source": [
    "# Create an empty DataFrame with the desired index\n",
    "result = pd.DataFrame()\n",
    "\n",
    "# Calculate metrics using custom functions and round them to two decimal places\n",
    "result.loc[\"custom function\", \"accuracy\"] = round(get_accuracy(actual=data[\"class\"], predicted=data[\"scored.class\"]), 2)\n",
    "result.loc[\"custom function\", \"precision\"] = round(get_precision(actual=data[\"class\"], predicted=data[\"scored.class\"]), 2)\n",
    "result.loc[\"custom function\", \"sensitivity\"] = round(get_sensitivity(actual=data[\"class\"], predicted=data[\"scored.class\"]), 2)\n",
    "result.loc[\"custom function\", \"f1_score\"] = round(get_f1_score(actual=data[\"class\"], predicted=data[\"scored.class\"]), 2)\n",
    "\n",
    "\n",
    "result.loc[\"pre built function\", \"accuracy\"] = round(accuracy_score(data[\"class\"], data[\"scored.class\"]), 2)\n",
    "result.loc[\"pre built function\", \"precision\"] = round(precision_score(data[\"class\"], data[\"scored.class\"]), 2)\n",
    "result.loc[\"pre built function\", \"sensitivity\"] = round(recall_score(data[\"class\"], data[\"scored.class\"]), 2)\n",
    "result.loc[\"pre built function\", \"f1_score\"] = round(f1_score(data[\"class\"], data[\"scored.class\"]), 2)\n",
    "\n",
    "# Display the DataFrame\n",
    "result"
   ]
  },
  {
   "cell_type": "markdown",
   "id": "5e88a47f",
   "metadata": {},
   "source": [
    "Both the output values from in-built and custom funciton are matching."
   ]
  },
  {
   "cell_type": "markdown",
   "id": "4ad4f9a9",
   "metadata": {},
   "source": [
    "## Classification Report"
   ]
  },
  {
   "cell_type": "code",
   "execution_count": 38,
   "id": "fa25089e",
   "metadata": {},
   "outputs": [
    {
     "name": "stdout",
     "output_type": "stream",
     "text": [
      "              precision    recall  f1-score   support\n",
      "\n",
      "           0       0.80      0.96      0.87       124\n",
      "           1       0.84      0.47      0.61        57\n",
      "\n",
      "    accuracy                           0.81       181\n",
      "   macro avg       0.82      0.72      0.74       181\n",
      "weighted avg       0.81      0.81      0.79       181\n",
      "\n"
     ]
    }
   ],
   "source": [
    "print(classification_report(data[\"class\"], data[\"scored.class\"]))"
   ]
  },
  {
   "cell_type": "markdown",
   "id": "88098bc8",
   "metadata": {},
   "source": [
    "__Insights__ : Both custom-made and built in function show almost identical results for all metrics. This suggests that your custom function is accurately replicating the calculations performed by the built-in functions."
   ]
  },
  {
   "cell_type": "markdown",
   "id": "5a42591a",
   "metadata": {},
   "source": [
    "# Compare ROC and AUC functions [13]"
   ]
  },
  {
   "cell_type": "markdown",
   "id": "cb700c7e",
   "metadata": {},
   "source": [
    "## Calculate ROC and AUC using built in functions"
   ]
  },
  {
   "cell_type": "code",
   "execution_count": 39,
   "id": "a892422d",
   "metadata": {},
   "outputs": [
    {
     "data": {
      "image/png": "[encoded data removed]",
      "text/plain": [
       "<Figure size 640x480 with 1 Axes>"
      ]
     },
     "metadata": {},
     "output_type": "display_data"
    },
    {
     "name": "stdout",
     "output_type": "stream",
     "text": [
      "AUC with built in function: 0.72\n"
     ]
    }
   ],
   "source": [
    "# Calculate false positive rate, true positive rate, and thresholds\n",
    "fpr, tpr, thresholds = roc_curve(data['class'], data['scored.class'])\n",
    "\n",
    "# Plot ROC curve\n",
    "plt.plot(fpr, tpr)\n",
    "plt.xlabel('False Positive Rate')\n",
    "plt.ylabel('True Positive Rate')\n",
    "plt.title('ROC Curve with built in function')\n",
    "plt.show()\n",
    "\n",
    "# Calculate AUC\n",
    "auc = round(roc_auc_score(data['class'], data['scored.class']), 2)\n",
    "print('AUC with built in function:', auc)"
   ]
  },
  {
   "cell_type": "markdown",
   "id": "a29a1b92",
   "metadata": {},
   "source": [
    "## Calculate ROC and AUC using custom functions"
   ]
  },
  {
   "cell_type": "code",
   "execution_count": 40,
   "id": "7b396ba6",
   "metadata": {},
   "outputs": [
    {
     "data": {
      "image/png": "[encoded data removed]",
      "text/plain": [
       "<Figure size 640x480 with 1 Axes>"
      ]
     },
     "metadata": {},
     "output_type": "display_data"
    },
    {
     "name": "stdout",
     "output_type": "stream",
     "text": [
      "AUC with custom function: 0.72\n"
     ]
    },
    {
     "data": {
      "text/plain": [
       "0.72"
      ]
     },
     "execution_count": 40,
     "metadata": {},
     "output_type": "execute_result"
    }
   ],
   "source": [
    "#roc and auc calculation using custom function\n",
    "get_roc_auc(actual = data['class'], predicted = data['scored.class'])"
   ]
  },
  {
   "cell_type": "markdown",
   "id": "504997f9",
   "metadata": {},
   "source": [
    "__Insights__ : Both custom-made and built in function shows identical results for ROC plot and AUC value. This suggests that our custom function accurately replicates the calculations performed by the built-in functions."
   ]
  },
  {
   "cell_type": "markdown",
   "id": "c6604d59",
   "metadata": {},
   "source": [
    "# Conclusion"
   ]
  },
  {
   "cell_type": "markdown",
   "id": "232bfcd5",
   "metadata": {},
   "source": [
    "In conclusion, we have created several custom functions to calculate the classification model performance metrics and compared the output with the output of the pre-built functionts. All the values were matching, suggesting that our custom function accurately replicates the calculations performed by the built-in functions."
   ]
  }
 ],
 "metadata": {
  "kernelspec": {
   "display_name": "Python 3 (ipykernel)",
   "language": "python",
   "name": "python3"
  },
  "language_info": {
   "codemirror_mode": {
    "name": "ipython",
    "version": 3
   },
   "file_extension": ".py",
   "mimetype": "text/x-python",
   "name": "python",
   "nbconvert_exporter": "python",
   "pygments_lexer": "ipython3",
   "version": "3.11.4"
  }
 },
 "nbformat": 4,
 "nbformat_minor": 5
}
